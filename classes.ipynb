{
 "cells": [
  {
   "cell_type": "markdown",
   "metadata": {},
   "source": [
    "<h1> Write a program to create a class called Cars </h1> <br> that holds values for <ul> <li>brand name<li>model name<li>model year<li>fuel effieciency<li>color</ul><br><br><h2> Create a function that print the values of the class</h2>"
   ]
  },
  {
   "cell_type": "code",
   "execution_count": 4,
   "metadata": {},
   "outputs": [
    {
     "name": "stdout",
     "output_type": "stream",
     "text": [
      "Mazda MX-5 2018 11 Red\n",
      "Toyota Camry 2012 14.3 White\n",
      "Red\n",
      "ToyotaCamry has higher fuel efficiency.\n"
     ]
    }
   ],
   "source": [
    "class Cars:\n",
    "    __slots__ = ['brand', 'model', 'year', 'efficiency', 'color']\n",
    "    def __init__(self, brand, model, year, efficiency, color):\n",
    "        self.brand = brand\n",
    "        self.model = model\n",
    "        self.year = year\n",
    "        self.efficiency = efficiency\n",
    "        self.color = color\n",
    "\n",
    "def printer(A):\n",
    "    print(A.brand, A.model, A.year, A.efficiency, A.color)\n",
    "\n",
    "def effCompare(x, y):\n",
    "    if x.efficiency > y.efficiency:\n",
    "        print(x.brand + x.model, \"has higher fuel efficiency.\")\n",
    "    elif x.efficiency < y.efficiency:\n",
    "        print(y.brand , y.model, \"has higher fuel efficiency.\")\n",
    "    else:\n",
    "        print(\"Equal efficiency.\")\n",
    "\n",
    "def main():\n",
    "    car1 = Cars('Toyota', 'Camry', 2012, 14.3, 'White')\n",
    "    car2 = Cars('Mazda', 'MX-5', 2018, 11, 'Red')\n",
    "    printer(car2)\n",
    "    printer(car1)\n",
    "    print(car2.color)\n",
    "    effCompare(car1, car2)\n",
    "\n",
    "main()\n"
   ]
  },
  {
   "cell_type": "markdown",
   "metadata": {},
   "source": [
    "<h1> Write a program that implements the class Bike"
   ]
  },
  {
   "cell_type": "code",
   "execution_count": null,
   "metadata": {},
   "outputs": [],
   "source": [
    "class Bike:\n",
    "    __slots__ = ['__color', '__gears', '__seat', '__trainingwheels']\n",
    "\n",
    "    def __init__(self, color, seat):\n",
    "        self.__color = color\n",
    "        self.__gear = 21\n",
    "        self.__seat = seat\n",
    "        self.__trainingwheels = False\n",
    "\n",
    "        "
   ]
  }
 ],
 "metadata": {
  "interpreter": {
   "hash": "10c3026f1289dbf037752cc9747463848e628156eb49370db5f4abd2b713cd63"
  },
  "kernelspec": {
   "display_name": "Python 3.9.1 64-bit",
   "name": "python3"
  },
  "language_info": {
   "codemirror_mode": {
    "name": "ipython",
    "version": 3
   },
   "file_extension": ".py",
   "mimetype": "text/x-python",
   "name": "python",
   "nbconvert_exporter": "python",
   "pygments_lexer": "ipython3",
   "version": "3.9.1"
  },
  "orig_nbformat": 4
 },
 "nbformat": 4,
 "nbformat_minor": 2
}
